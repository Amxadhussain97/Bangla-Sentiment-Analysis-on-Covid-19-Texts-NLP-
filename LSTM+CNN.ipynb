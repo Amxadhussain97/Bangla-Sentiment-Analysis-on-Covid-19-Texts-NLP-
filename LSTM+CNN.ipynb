{
 "cells": [
  {
   "cell_type": "code",
   "execution_count": 105,
   "metadata": {},
   "outputs": [],
   "source": [
    "from numpy import array\n",
    "import nltk\n",
    "from bnlp.corpus import stopwords\n",
    "from bnlp.corpus.util import remove_stopwords\n",
    "from bangla_stemmer.stemmer import stemmer\n",
    "from tensorflow.keras.preprocessing.text import one_hot\n",
    "from tensorflow.keras.preprocessing.sequence import pad_sequences\n",
    "from tensorflow.keras.models import Sequential\n",
    "from tensorflow.keras.layers import Flatten, LSTM\n",
    "from tensorflow.keras.layers import GlobalMaxPooling1D\n",
    "from tensorflow.keras.models import Model\n",
    "from sklearn.model_selection import train_test_split\n",
    "from tensorflow.keras.preprocessing.text import Tokenizer\n",
    "from tensorflow.keras.layers import Input\n",
    "from keras.utils import to_categorical\n",
    "import pandas as pd\n",
    "import numpy as np\n",
    "import re\n",
    "import warnings\n",
    "warnings.filterwarnings('ignore')\n",
    "import matplotlib.pyplot as plt\n",
    "%matplotlib inline\n",
    "import seaborn as sns\n",
    "import pandas as pd\n",
    "df_train = pd.read_csv('check/train.csv')\n",
    "df_test = pd.read_csv('check/test.csv')\n",
    "df_train.dropna(subset = [\"data\"], inplace=True) \n",
    "df_test.dropna(subset = [\"data\"], inplace=True) \n",
    "# df = df[df['sentiment'] != \"Anger\"]\n",
    "df_train.dropna(subset = [\"data\"], inplace=True) \n",
    "df_train.dropna(subset = [\"emotion\"], inplace=True)\n",
    "df_test.dropna(subset = [\"data\"], inplace=True) \n",
    "df_test.dropna(subset = [\"emotion\"], inplace=True) "
   ]
  },
  {
   "cell_type": "code",
   "execution_count": 106,
   "metadata": {},
   "outputs": [
    {
     "data": {
      "text/plain": [
       "Curious       3149\n",
       "Gratitude     2833\n",
       "Insightful    2576\n",
       "Name: emotion, dtype: int64"
      ]
     },
     "execution_count": 106,
     "metadata": {},
     "output_type": "execute_result"
    }
   ],
   "source": [
    "df_train['emotion'].value_counts()"
   ]
  },
  {
   "cell_type": "code",
   "execution_count": 107,
   "metadata": {},
   "outputs": [
    {
     "data": {
      "text/plain": [
       "Insightful    1224\n",
       "Curious        400\n",
       "Gratitude      399\n",
       "Name: emotion, dtype: int64"
      ]
     },
     "execution_count": 107,
     "metadata": {},
     "output_type": "execute_result"
    }
   ],
   "source": [
    "now=df_test.drop_duplicates()\n",
    "now.dropna(subset = [\"data\"], inplace=True) \n",
    "now.dropna(subset = [\"emotion\"], inplace=True) \n",
    "df_test=now\n",
    "df_test['emotion'].value_counts()"
   ]
  },
  {
   "cell_type": "code",
   "execution_count": 108,
   "metadata": {},
   "outputs": [],
   "source": [
    "frames = [df_test,df_train]\n",
    "texts= pd.concat(frames)"
   ]
  },
  {
   "cell_type": "code",
   "execution_count": 109,
   "metadata": {},
   "outputs": [
    {
     "data": {
      "text/plain": [
       "Insightful    3800\n",
       "Curious       3549\n",
       "Gratitude     3232\n",
       "Name: emotion, dtype: int64"
      ]
     },
     "execution_count": 109,
     "metadata": {},
     "output_type": "execute_result"
    }
   ],
   "source": [
    "texts['emotion'].value_counts()"
   ]
  },
  {
   "cell_type": "code",
   "execution_count": 110,
   "metadata": {},
   "outputs": [
    {
     "data": {
      "image/png": "[encoded data removed]",
      "text/plain": [
       "<Figure size 432x288 with 1 Axes>"
      ]
     },
     "metadata": {
      "needs_background": "light"
     },
     "output_type": "display_data"
    }
   ],
   "source": [
    "sns.countplot(texts.emotion)\n",
    "plt.title('Countplot of the Emotions', fontsize = 20, color = 'Violet')\n",
    "plt.show()\n"
   ]
  },
  {
   "cell_type": "code",
   "execution_count": 111,
   "metadata": {},
   "outputs": [],
   "source": [
    "import re,string\n",
    "import functools  \n",
    "tokenized_lines = []\n",
    "def get_clean(text):\n",
    "        whitespace = re.compile(u\"[\\s\\u0020\\u00a0\\u1680\\u180e\\u202f\\u205f\\u3000\\u2000-\\u200a]+\", re.UNICODE)\n",
    "        bangla_fullstop = u\"\\u0964\"\n",
    "        punctSeq = u\"['\\\"“”‘’]+|[.?!,…]+|[:;]+\"\n",
    "        punc = u\"[(),$%^&*+={}\\[\\]:\\\"|\\'\\~`<>/,¦!?½£¶¼©⅐⅑⅒⅓⅔⅕⅖⅗⅘⅙⅚⅛⅜⅝⅞⅟↉¤¿º;-]+\"\n",
    "        text = whitespace.sub(\" \", text).strip()\n",
    "        text = re.sub(r'[^\\u0980-\\u09FF ]+', '', text)\n",
    "        text = re.sub(punctSeq, \" \", text)\n",
    "        text = re.sub('\\w*\\d\\w*','',text)\n",
    "        text = re.sub(bangla_fullstop, \" \", text)\n",
    "        text = re.sub(punc, \" \", text)\n",
    "        text = re.sub('[!\"#$%&\\'()*+,-./:;<=>?@[\\]^_`{|}~]', ' ', text)\n",
    "        text=text.replace(\"\\\\\", \" \")\n",
    "        tokenized_lines.append(text.split())\n",
    "        return text"
   ]
  },
  {
   "cell_type": "code",
   "execution_count": 112,
   "metadata": {},
   "outputs": [],
   "source": [
    "df_train['data'] = df_train['data'].apply(lambda x: get_clean(x))\n",
    "df_train.dropna(subset = [\"data\"], inplace=True) \n",
    "df_test['data'] = df_test['data'].apply(lambda x: get_clean(x))\n",
    "df_test.dropna(subset = [\"data\"], inplace=True) \n",
    "texts['data'] = texts['data'].apply(lambda x: get_clean(x))\n",
    "texts.dropna(subset = [\"data\"], inplace=True) \n"
   ]
  },
  {
   "cell_type": "code",
   "execution_count": 113,
   "metadata": {},
   "outputs": [
    {
     "data": {
      "text/plain": [
       "46"
      ]
     },
     "execution_count": 113,
     "metadata": {},
     "output_type": "execute_result"
    }
   ],
   "source": [
    "now=texts['data'].to_list()\n",
    "maxlen=0\n",
    "for i in now:\n",
    "    z=i.split()\n",
    "    if(len(z)>maxlen):\n",
    "        maxlen=len(z)\n",
    "maxlen"
   ]
  },
  {
   "cell_type": "code",
   "execution_count": 114,
   "metadata": {},
   "outputs": [
    {
     "data": {
      "text/plain": [
       "0       Insightful\n",
       "1       Insightful\n",
       "2       Insightful\n",
       "3       Insightful\n",
       "4       Insightful\n",
       "           ...    \n",
       "2023     Gratitude\n",
       "2024     Gratitude\n",
       "2025     Gratitude\n",
       "2026     Gratitude\n",
       "2027     Gratitude\n",
       "Name: emotion, Length: 2023, dtype: object"
      ]
     },
     "execution_count": 114,
     "metadata": {},
     "output_type": "execute_result"
    }
   ],
   "source": [
    "X_train=df_train['data']\n",
    "y_train=df_train['emotion']\n",
    "X_test=df_test['data']\n",
    "y_test=df_test['emotion']\n",
    "X=texts['data']\n",
    "y_test_sentiment=y_test\n",
    "y_test_sentiment"
   ]
  },
  {
   "cell_type": "code",
   "execution_count": 115,
   "metadata": {},
   "outputs": [],
   "source": [
    "class_names = ['Insightful', 'Curious', 'Gratitude']\n",
    "encoding = {\n",
    "    'Insightful': 0,\n",
    "    'Curious': 1,\n",
    "    'Gratitude': 2,\n",
    "}\n",
    "y_train = [encoding[x] for x in y_train]\n",
    "y_test = [encoding[x] for x in y_test]\n",
    "y_train = to_categorical(y_train)\n",
    "y_test = to_categorical(y_test)"
   ]
  },
  {
   "cell_type": "code",
   "execution_count": 116,
   "metadata": {},
   "outputs": [
    {
     "data": {
      "text/plain": [
       "10050"
      ]
     },
     "execution_count": 116,
     "metadata": {},
     "output_type": "execute_result"
    }
   ],
   "source": [
    "tokenizer = Tokenizer()\n",
    "tokenizer.fit_on_texts(X)\n",
    "#tokenizer.texts_to_matrix(df['data'], mode='tfidf')\n",
    "X_train = tokenizer.texts_to_sequences(X_train)\n",
    "X_test = tokenizer.texts_to_sequences(X_test)\n",
    "index_of_words = tokenizer.word_index\n",
    "vocab_size = len(index_of_words) + 1\n",
    "X_train = pad_sequences(X_train, padding='post', maxlen=maxlen)\n",
    "X_test = pad_sequences(X_test, padding='post', maxlen=maxlen)\n",
    "vocab_size"
   ]
  },
  {
   "cell_type": "code",
   "execution_count": 96,
   "metadata": {},
   "outputs": [],
   "source": [
    "preprocessed_text_file_path='vectraindata/bnwiki-texts-preprocessed.txt'                 \n",
    "lines_from_file = []\n",
    "with open(preprocessed_text_file_path, encoding='utf8') as text_file:\n",
    "    for line in text_file:\n",
    "        lines_from_file.append(line)\n",
    "for single_line in lines_from_file:\n",
    "    #print(single_line.split())\n",
    "    tokenized_lines.append(single_line.split())"
   ]
  },
  {
   "cell_type": "code",
   "execution_count": 14,
   "metadata": {},
   "outputs": [],
   "source": [
    "import gensim\n",
    "word_model = gensim.models.Word2Vec(tokenized_lines,vector_size=300,min_count=1)"
   ]
  },
  {
   "cell_type": "code",
   "execution_count": 127,
   "metadata": {},
   "outputs": [
    {
     "data": {
      "text/plain": [
       "672150"
      ]
     },
     "execution_count": 127,
     "metadata": {},
     "output_type": "execute_result"
    }
   ],
   "source": [
    "embedding_matrix = np.zeros((len(word_model.wv.key_to_index) + 1, 300))\n",
    "for i, vec in enumerate(word_model.wv.vectors):\n",
    "  embedding_matrix[i] = vec\n",
    "vocab_size = len(word_model.wv.key_to_index) + 1\n",
    "vocab_size"
   ]
  },
  {
   "cell_type": "code",
   "execution_count": 118,
   "metadata": {},
   "outputs": [],
   "source": [
    "embed_num_dims=300\n",
    "#BidLSTM Starts\n",
    "# Embedding layer before the actaul BLSTM \n",
    "from tensorflow.keras.models import Sequential\n",
    "from tensorflow.keras.layers import Embedding, Bidirectional, LSTM, GRU, Dense\n",
    "embedd_layer = Embedding(vocab_size,\n",
    "                         embed_num_dims,\n",
    "                         input_length = maxlen,\n",
    "                         weights = [embedding_matrix],\n",
    "                         trainable=False)"
   ]
  },
  {
   "cell_type": "code",
   "execution_count": 119,
   "metadata": {},
   "outputs": [],
   "source": [
    "gru_output_size = 128\n",
    "bidirectional = True\n",
    "\n",
    "# Embedding Layer, LSTM or biLSTM, Dense, softmax\n",
    "model = Sequential()\n",
    "model.add(embedd_layer)\n",
    "\n",
    "if bidirectional:\n",
    "    model.add(Bidirectional(GRU(units=gru_output_size,\n",
    "                              dropout=0.2,\n",
    "                              recurrent_dropout=0.2)))\n",
    "else:\n",
    "     model.add(GRU(units=gru_output_size,\n",
    "                dropout=0.2, \n",
    "                recurrent_dropout=0.2))\n",
    "\n",
    "model.add(Dense(3, activation='softmax'))\n",
    "# model.add(Dense(1, activation='sigmoid'))"
   ]
  },
  {
   "cell_type": "code",
   "execution_count": 120,
   "metadata": {},
   "outputs": [
    {
     "name": "stdout",
     "output_type": "stream",
     "text": [
      "Model: \"sequential_7\"\n",
      "_________________________________________________________________\n",
      "Layer (type)                 Output Shape              Param #   \n",
      "=================================================================\n",
      "embedding_5 (Embedding)      (None, 46, 300)           201645000 \n",
      "_________________________________________________________________\n",
      "bidirectional_4 (Bidirection (None, 256)               330240    \n",
      "_________________________________________________________________\n",
      "dense_6 (Dense)              (None, 3)                 771       \n",
      "=================================================================\n",
      "Total params: 201,976,011\n",
      "Trainable params: 331,011\n",
      "Non-trainable params: 201,645,000\n",
      "_________________________________________________________________\n"
     ]
    }
   ],
   "source": [
    "model.compile(loss = 'categorical_crossentropy', optimizer = 'adam', metrics = ['accuracy'])\n",
    "# model.compile(loss = 'binary_crossentropy', optimizer = 'adam', metrics = ['accuracy'])\n",
    "model.summary()\n"
   ]
  },
  {
   "cell_type": "code",
   "execution_count": 121,
   "metadata": {
    "scrolled": false
   },
   "outputs": [
    {
     "name": "stdout",
     "output_type": "stream",
     "text": [
      "Epoch 1/32\n",
      "67/67 [==============================] - 52s 703ms/step - loss: 1.0322 - accuracy: 0.4878 - val_loss: 0.8119 - val_accuracy: 0.5922\n",
      "Epoch 2/32\n",
      "67/67 [==============================] - 43s 637ms/step - loss: 0.5188 - accuracy: 0.7842 - val_loss: 0.5377 - val_accuracy: 0.7840\n",
      "Epoch 3/32\n",
      "67/67 [==============================] - 41s 613ms/step - loss: 0.3402 - accuracy: 0.8707 - val_loss: 0.5660 - val_accuracy: 0.7800\n",
      "Epoch 4/32\n",
      "67/67 [==============================] - 37s 547ms/step - loss: 0.2598 - accuracy: 0.9037 - val_loss: 0.5008 - val_accuracy: 0.8122\n",
      "Epoch 5/32\n",
      "67/67 [==============================] - 41s 605ms/step - loss: 0.1871 - accuracy: 0.9376 - val_loss: 0.4667 - val_accuracy: 0.8285\n",
      "Epoch 6/32\n",
      "67/67 [==============================] - 40s 603ms/step - loss: 0.1467 - accuracy: 0.9560 - val_loss: 0.6443 - val_accuracy: 0.7776\n",
      "Epoch 7/32\n",
      "67/67 [==============================] - 39s 585ms/step - loss: 0.1171 - accuracy: 0.9652 - val_loss: 0.5667 - val_accuracy: 0.8265\n",
      "Epoch 8/32\n",
      "67/67 [==============================] - 41s 606ms/step - loss: 0.0864 - accuracy: 0.9737 - val_loss: 0.6123 - val_accuracy: 0.8136\n",
      "Epoch 9/32\n",
      "67/67 [==============================] - 40s 593ms/step - loss: 0.0717 - accuracy: 0.9768 - val_loss: 0.6613 - val_accuracy: 0.8122\n",
      "Epoch 10/32\n",
      "67/67 [==============================] - 39s 584ms/step - loss: 0.0528 - accuracy: 0.9850 - val_loss: 0.8084 - val_accuracy: 0.7899\n",
      "Epoch 11/32\n",
      "67/67 [==============================] - 40s 591ms/step - loss: 0.0378 - accuracy: 0.9909 - val_loss: 0.7141 - val_accuracy: 0.8191\n",
      "Epoch 12/32\n",
      "67/67 [==============================] - 43s 636ms/step - loss: 0.0379 - accuracy: 0.9896 - val_loss: 0.7145 - val_accuracy: 0.8235\n",
      "Epoch 13/32\n",
      "67/67 [==============================] - 42s 624ms/step - loss: 0.0376 - accuracy: 0.9889 - val_loss: 0.7307 - val_accuracy: 0.8290\n",
      "Epoch 14/32\n",
      "67/67 [==============================] - 41s 611ms/step - loss: 0.0290 - accuracy: 0.9911 - val_loss: 0.8031 - val_accuracy: 0.8102\n",
      "Epoch 15/32\n",
      "67/67 [==============================] - 40s 597ms/step - loss: 0.0207 - accuracy: 0.9943 - val_loss: 0.7839 - val_accuracy: 0.8290\n",
      "Epoch 16/32\n",
      "67/67 [==============================] - 47s 705ms/step - loss: 0.0214 - accuracy: 0.9933 - val_loss: 0.9137 - val_accuracy: 0.8092\n",
      "Epoch 17/32\n",
      "67/67 [==============================] - 45s 669ms/step - loss: 0.0144 - accuracy: 0.9972 - val_loss: 0.9013 - val_accuracy: 0.8117\n",
      "Epoch 18/32\n",
      "67/67 [==============================] - 53s 790ms/step - loss: 0.0163 - accuracy: 0.9950 - val_loss: 1.1154 - val_accuracy: 0.7746\n",
      "Epoch 19/32\n",
      "67/67 [==============================] - 59s 882ms/step - loss: 0.0165 - accuracy: 0.9953 - val_loss: 0.8318 - val_accuracy: 0.8448\n",
      "Epoch 20/32\n",
      "67/67 [==============================] - 58s 870ms/step - loss: 0.0140 - accuracy: 0.9964 - val_loss: 0.8593 - val_accuracy: 0.8354\n",
      "Epoch 21/32\n",
      "67/67 [==============================] - 56s 844ms/step - loss: 0.0120 - accuracy: 0.9978 - val_loss: 0.8874 - val_accuracy: 0.8290\n",
      "Epoch 22/32\n",
      "67/67 [==============================] - 59s 883ms/step - loss: 0.0136 - accuracy: 0.9955 - val_loss: 0.9993 - val_accuracy: 0.8097\n",
      "Epoch 23/32\n",
      "67/67 [==============================] - 58s 861ms/step - loss: 0.0137 - accuracy: 0.9966 - val_loss: 1.0080 - val_accuracy: 0.8038\n",
      "Epoch 24/32\n",
      "67/67 [==============================] - 59s 883ms/step - loss: 0.0094 - accuracy: 0.9976 - val_loss: 0.9848 - val_accuracy: 0.8176\n",
      "Epoch 25/32\n",
      "67/67 [==============================] - 59s 890ms/step - loss: 0.0090 - accuracy: 0.9981 - val_loss: 1.0966 - val_accuracy: 0.8038\n",
      "Epoch 26/32\n",
      "67/67 [==============================] - 57s 858ms/step - loss: 0.0099 - accuracy: 0.9964 - val_loss: 0.9743 - val_accuracy: 0.8369\n",
      "Epoch 27/32\n",
      "67/67 [==============================] - 58s 873ms/step - loss: 0.0103 - accuracy: 0.9964 - val_loss: 1.0292 - val_accuracy: 0.8127\n",
      "Epoch 28/32\n",
      "67/67 [==============================] - 51s 758ms/step - loss: 0.0093 - accuracy: 0.9972 - val_loss: 0.9113 - val_accuracy: 0.8364\n",
      "Epoch 29/32\n",
      "67/67 [==============================] - 61s 907ms/step - loss: 0.0103 - accuracy: 0.9977 - val_loss: 0.9060 - val_accuracy: 0.8369\n",
      "Epoch 30/32\n",
      "67/67 [==============================] - 58s 867ms/step - loss: 0.0067 - accuracy: 0.9986 - val_loss: 1.0410 - val_accuracy: 0.8146\n",
      "Epoch 31/32\n",
      "67/67 [==============================] - 58s 866ms/step - loss: 0.0112 - accuracy: 0.9964 - val_loss: 1.0803 - val_accuracy: 0.8072\n",
      "Epoch 32/32\n",
      "67/67 [==============================] - 59s 885ms/step - loss: 0.0072 - accuracy: 0.9979 - val_loss: 0.9144 - val_accuracy: 0.8492\n"
     ]
    }
   ],
   "source": [
    "\n",
    "# batch_size = 128\n",
    "batch_size =128\n",
    "epochs = 32\n",
    "\n",
    "hist = model.fit(X_train, y_train, \n",
    "                 batch_size=batch_size,\n",
    "                 epochs=epochs,\n",
    "                 validation_data=(X_test,y_test))\n",
    "\n"
   ]
  },
  {
   "cell_type": "code",
   "execution_count": 122,
   "metadata": {},
   "outputs": [
    {
     "name": "stdout",
     "output_type": "stream",
     "text": [
      "64/64 [==============================] - 3s 45ms/step - loss: 0.9144 - accuracy: 0.8492\n"
     ]
    }
   ],
   "source": [
    "scores = model.evaluate(X_test, y_test)"
   ]
  },
  {
   "cell_type": "code",
   "execution_count": 123,
   "metadata": {},
   "outputs": [
    {
     "data": {
      "text/plain": [
       "array([[ 311,    2,   87],\n",
       "       [   6,  351,   42],\n",
       "       [  75,   93, 1056]], dtype=int64)"
      ]
     },
     "execution_count": 123,
     "metadata": {},
     "output_type": "execute_result"
    }
   ],
   "source": [
    "from sklearn.model_selection import train_test_split,KFold,cross_val_score\n",
    "from sklearn.metrics import confusion_matrix\n",
    "from sklearn.metrics import recall_score\n",
    "from sklearn.metrics import f1_score\n",
    "from sklearn.metrics import precision_score\n",
    "from sklearn.metrics import classification_report,confusion_matrix,accuracy_score\n",
    "predictions = model.predict(X_test)\n",
    "predictions = np.argmax(predictions, axis=1)\n",
    "predictions = [class_names[pred] for pred in predictions]\n",
    "conf_matrix=confusion_matrix(y_test_sentiment,predictions)\n",
    "precision_sc = precision_score(y_test_sentiment,predictions,class_names,average='weighted')\n",
    "recall_sc = recall_score(y_test_sentiment,predictions,class_names,average='weighted')\n",
    "f1_sc = f1_score(y_test_sentiment,predictions,class_names,average='weighted')\n",
    "conf_matrix\n",
    "# y_test_sentiment"
   ]
  },
  {
   "cell_type": "code",
   "execution_count": 124,
   "metadata": {},
   "outputs": [
    {
     "name": "stdout",
     "output_type": "stream",
     "text": [
      "Train Accuracy:  84.92338061332703\n",
      "Test Accuracy:  91.43557548522949\n"
     ]
    }
   ],
   "source": [
    "train_accuracy=scores[1] * 100\n",
    "test_accuracy=scores[0] * 100\n",
    "print(\"Train Accuracy: \",train_accuracy)\n",
    "print(\"Test Accuracy: \",test_accuracy)"
   ]
  },
  {
   "cell_type": "code",
   "execution_count": 125,
   "metadata": {},
   "outputs": [
    {
     "name": "stdout",
     "output_type": "stream",
     "text": [
      "Precision:  0.8512667226483386\n",
      "Recall:  0.8492338111715274\n",
      "F1 score:  0.8495868648686585\n"
     ]
    }
   ],
   "source": [
    "print(\"Precision: \",precision_sc)\n",
    "print(\"Recall: \",recall_sc)\n",
    "print(\"F1 score: \",f1_sc)\n"
   ]
  },
  {
   "cell_type": "code",
   "execution_count": 126,
   "metadata": {},
   "outputs": [
    {
     "data": {
      "image/png": "[encoded data removed]",
      "text/plain": [
       "<Figure size 900x540 with 2 Axes>"
      ]
     },
     "metadata": {
      "needs_background": "light"
     },
     "output_type": "display_data"
    }
   ],
   "source": [
    "    title='Normalized confusion matrix'\n",
    "    normalize=True\n",
    "    cmap=plt.cm.Blues\n",
    "    if not title:\n",
    "        if normalize:\n",
    "            title = 'Normalized confusion matrix'\n",
    "        else:\n",
    "            title = 'Confusion matrix, without normalization'\n",
    "\n",
    "    # Compute confusion matrix\n",
    "    cm =conf_matrix\n",
    "\n",
    "    if normalize:\n",
    "        cm = cm.astype('float') / cm.sum(axis=1)[:, np.newaxis]\n",
    "\n",
    "    fig, ax = plt.subplots()\n",
    "    \n",
    "    # Set size\n",
    "    fig.set_size_inches(12.5, 7.5)\n",
    "    im = ax.imshow(cm, interpolation='nearest', cmap=cmap)\n",
    "    ax.figure.colorbar(im, ax=ax)\n",
    "    ax.grid(False)\n",
    "    \n",
    "    # We want to show all ticks...\n",
    "    ax.set(xticks=np.arange(cm.shape[1]),\n",
    "           yticks=np.arange(cm.shape[0]),\n",
    "           # ... and label them with the respective list entries\n",
    "           xticklabels=class_names, yticklabels=class_names,\n",
    "           title=title,\n",
    "           ylabel='True label',\n",
    "           xlabel='Predicted label')\n",
    "\n",
    "    # Rotate the tick labels and set their alignment.\n",
    "    plt.setp(ax.get_xticklabels(), rotation=45, ha=\"right\",\n",
    "             rotation_mode=\"anchor\")\n",
    "\n",
    "    # Loop over data dimensions and create text annotations.\n",
    "    fmt = '.2f' if normalize else 'd'\n",
    "    thresh = cm.max() / 2.\n",
    "    for i in range(cm.shape[0]):\n",
    "        for j in range(cm.shape[1]):\n",
    "            ax.text(j, i, format(cm[i, j], fmt),\n",
    "                    ha=\"center\", va=\"center\",\n",
    "                    color=\"white\" if cm[i, j] > thresh else \"black\")\n",
    "    fig.tight_layout()\n"
   ]
  },
  {
   "cell_type": "code",
   "execution_count": 18,
   "metadata": {},
   "outputs": [
    {
     "name": "stdout",
     "output_type": "stream",
     "text": [
      "Model: \"sequential_1\"\n",
      "_________________________________________________________________\n",
      "Layer (type)                 Output Shape              Param #   \n",
      "=================================================================\n",
      "embedding (Embedding)        (None, 46, 300)           201645000 \n",
      "_________________________________________________________________\n",
      "conv1d (Conv1D)              (None, 44, 256)           230656    \n",
      "_________________________________________________________________\n",
      "global_max_pooling1d (Global (None, 256)               0         \n",
      "_________________________________________________________________\n",
      "dense (Dense)                (None, 256)               65792     \n",
      "_________________________________________________________________\n",
      "dropout (Dropout)            (None, 256)               0         \n",
      "_________________________________________________________________\n",
      "dense_1 (Dense)              (None, 3)                 771       \n",
      "=================================================================\n",
      "Total params: 201,942,219\n",
      "Trainable params: 297,219\n",
      "Non-trainable params: 201,645,000\n",
      "_________________________________________________________________\n"
     ]
    }
   ],
   "source": [
    "#CNN STarts\n",
    "# Convolution\n",
    "from tensorflow.keras.layers import Embedding, Conv1D, GlobalMaxPooling1D, Dense\n",
    "from tensorflow.keras.layers import *\n",
    "kernel_size = 3\n",
    "filters = 256\n",
    "\n",
    "model = Sequential()\n",
    "model.add(embedd_layer)\n",
    "model.add(Conv1D(filters, kernel_size, activation='relu'))\n",
    "model.add(GlobalMaxPooling1D())\n",
    "model.add(Dense(256, activation='relu'))\n",
    "model.add(Dropout(0.2)),\n",
    "# model.add(Dense(1, activation='softmax'))\n",
    "model.add(Dense(3, activation='softmax'))\n",
    "model.compile(loss = 'categorical_crossentropy', optimizer = 'adam', metrics = ['accuracy'])\n",
    "# model.compile(loss = 'binary_crossentropy', optimizer = 'adam', metrics = ['accuracy'])\n",
    "model.summary()\n"
   ]
  },
  {
   "cell_type": "code",
   "execution_count": 19,
   "metadata": {},
   "outputs": [
    {
     "name": "stdout",
     "output_type": "stream",
     "text": [
      "Epoch 1/32\n",
      "67/67 [==============================] - 7s 77ms/step - loss: 1.4332 - accuracy: 0.5297 - val_loss: 0.5809 - val_accuracy: 0.7608\n",
      "Epoch 2/32\n",
      "67/67 [==============================] - 4s 66ms/step - loss: 0.3505 - accuracy: 0.8744 - val_loss: 0.5073 - val_accuracy: 0.7958\n",
      "Epoch 3/32\n",
      "67/67 [==============================] - 5s 67ms/step - loss: 0.1612 - accuracy: 0.9535 - val_loss: 0.5125 - val_accuracy: 0.7988\n",
      "Epoch 4/32\n",
      "67/67 [==============================] - 4s 66ms/step - loss: 0.0832 - accuracy: 0.9795 - val_loss: 0.5317 - val_accuracy: 0.8057\n",
      "Epoch 5/32\n",
      "67/67 [==============================] - 4s 67ms/step - loss: 0.0466 - accuracy: 0.9898 - val_loss: 0.5925 - val_accuracy: 0.8102\n",
      "Epoch 6/32\n",
      "67/67 [==============================] - 4s 67ms/step - loss: 0.0241 - accuracy: 0.9959 - val_loss: 0.6926 - val_accuracy: 0.7909\n",
      "Epoch 7/32\n",
      "67/67 [==============================] - 5s 68ms/step - loss: 0.0211 - accuracy: 0.9961 - val_loss: 0.6809 - val_accuracy: 0.8329\n",
      "Epoch 8/32\n",
      "67/67 [==============================] - 4s 67ms/step - loss: 0.0107 - accuracy: 0.9981 - val_loss: 0.7111 - val_accuracy: 0.8107\n",
      "Epoch 9/32\n",
      "67/67 [==============================] - 4s 67ms/step - loss: 0.0048 - accuracy: 0.9998 - val_loss: 0.7452 - val_accuracy: 0.8181\n",
      "Epoch 10/32\n",
      "67/67 [==============================] - 5s 68ms/step - loss: 0.0033 - accuracy: 0.9997 - val_loss: 0.8223 - val_accuracy: 0.8087\n",
      "Epoch 11/32\n",
      "67/67 [==============================] - 5s 69ms/step - loss: 0.0069 - accuracy: 0.9989 - val_loss: 0.8328 - val_accuracy: 0.8235\n",
      "Epoch 12/32\n",
      "67/67 [==============================] - 5s 70ms/step - loss: 0.0052 - accuracy: 0.9989 - val_loss: 0.8085 - val_accuracy: 0.8324\n",
      "Epoch 13/32\n",
      "67/67 [==============================] - 5s 69ms/step - loss: 0.0087 - accuracy: 0.9983 - val_loss: 0.8328 - val_accuracy: 0.8255\n",
      "Epoch 14/32\n",
      "67/67 [==============================] - 5s 68ms/step - loss: 0.0442 - accuracy: 0.9858 - val_loss: 0.7236 - val_accuracy: 0.8107\n",
      "Epoch 15/32\n",
      "67/67 [==============================] - 5s 70ms/step - loss: 0.0506 - accuracy: 0.9811 - val_loss: 0.8824 - val_accuracy: 0.7761\n",
      "Epoch 16/32\n",
      "67/67 [==============================] - 4s 66ms/step - loss: 0.0484 - accuracy: 0.9816 - val_loss: 0.8983 - val_accuracy: 0.7850\n",
      "Epoch 17/32\n",
      "67/67 [==============================] - 4s 66ms/step - loss: 0.0242 - accuracy: 0.9918 - val_loss: 0.9824 - val_accuracy: 0.8082\n",
      "Epoch 18/32\n",
      "67/67 [==============================] - 5s 68ms/step - loss: 0.0121 - accuracy: 0.9968 - val_loss: 0.9422 - val_accuracy: 0.8245\n",
      "Epoch 19/32\n",
      "67/67 [==============================] - 5s 71ms/step - loss: 0.0048 - accuracy: 0.9989 - val_loss: 1.0518 - val_accuracy: 0.8097\n",
      "Epoch 20/32\n",
      "67/67 [==============================] - 5s 69ms/step - loss: 0.0027 - accuracy: 0.9994 - val_loss: 1.0246 - val_accuracy: 0.8270\n",
      "Epoch 21/32\n",
      "67/67 [==============================] - 5s 69ms/step - loss: 0.0023 - accuracy: 0.9993 - val_loss: 1.0484 - val_accuracy: 0.8151\n",
      "Epoch 22/32\n",
      "67/67 [==============================] - 5s 68ms/step - loss: 0.0012 - accuracy: 0.9999 - val_loss: 1.0235 - val_accuracy: 0.8295\n",
      "Epoch 23/32\n",
      "67/67 [==============================] - 4s 67ms/step - loss: 8.4575e-04 - accuracy: 0.9998 - val_loss: 1.0670 - val_accuracy: 0.8201\n",
      "Epoch 24/32\n",
      "67/67 [==============================] - 5s 67ms/step - loss: 9.5558e-04 - accuracy: 0.9999 - val_loss: 1.1027 - val_accuracy: 0.8216\n",
      "Epoch 25/32\n",
      "67/67 [==============================] - 4s 66ms/step - loss: 7.3912e-04 - accuracy: 0.9997 - val_loss: 1.0704 - val_accuracy: 0.8295\n",
      "Epoch 26/32\n",
      "67/67 [==============================] - 4s 67ms/step - loss: 3.1569e-04 - accuracy: 1.0000 - val_loss: 1.0831 - val_accuracy: 0.8290\n",
      "Epoch 27/32\n",
      "67/67 [==============================] - 4s 66ms/step - loss: 1.7330e-04 - accuracy: 0.9999 - val_loss: 1.1118 - val_accuracy: 0.8235\n",
      "Epoch 28/32\n",
      "67/67 [==============================] - 4s 67ms/step - loss: 2.7924e-04 - accuracy: 0.9999 - val_loss: 1.1351 - val_accuracy: 0.8220\n",
      "Epoch 29/32\n",
      "67/67 [==============================] - 4s 67ms/step - loss: 8.3680e-04 - accuracy: 0.9997 - val_loss: 1.1303 - val_accuracy: 0.8235\n",
      "Epoch 30/32\n",
      "67/67 [==============================] - 4s 66ms/step - loss: 2.0057e-04 - accuracy: 1.0000 - val_loss: 1.1172 - val_accuracy: 0.8329\n",
      "Epoch 31/32\n",
      "67/67 [==============================] - 5s 70ms/step - loss: 5.1246e-04 - accuracy: 0.9997 - val_loss: 1.1551 - val_accuracy: 0.8230\n",
      "Epoch 32/32\n",
      "67/67 [==============================] - 4s 67ms/step - loss: 7.5679e-04 - accuracy: 0.9997 - val_loss: 1.1741 - val_accuracy: 0.8191\n"
     ]
    }
   ],
   "source": [
    "\n",
    "# batch_size = 128\n",
    "batch_size =128\n",
    "epochs = 32\n",
    "\n",
    "hist = model.fit(X_train, y_train, \n",
    "                 batch_size=batch_size,\n",
    "                 epochs=epochs,\n",
    "                 validation_data=(X_test,y_test))\n",
    "\n"
   ]
  },
  {
   "cell_type": "code",
   "execution_count": 20,
   "metadata": {},
   "outputs": [
    {
     "name": "stdout",
     "output_type": "stream",
     "text": [
      "64/64 [==============================] - 1s 9ms/step - loss: 1.1741 - accuracy: 0.8191\n"
     ]
    }
   ],
   "source": [
    "scores = model.evaluate(X_test, y_test)"
   ]
  },
  {
   "cell_type": "code",
   "execution_count": 21,
   "metadata": {},
   "outputs": [
    {
     "data": {
      "text/plain": [
       "array([[317,   7,  76],\n",
       "       [  6, 346,  47],\n",
       "       [102, 128, 994]], dtype=int64)"
      ]
     },
     "execution_count": 21,
     "metadata": {},
     "output_type": "execute_result"
    }
   ],
   "source": [
    "from sklearn.model_selection import train_test_split,KFold,cross_val_score\n",
    "from sklearn.metrics import confusion_matrix\n",
    "from sklearn.metrics import recall_score\n",
    "from sklearn.metrics import f1_score\n",
    "from sklearn.metrics import precision_score\n",
    "from sklearn.metrics import classification_report,confusion_matrix,accuracy_score\n",
    "predictions = model.predict(X_test)\n",
    "predictions = np.argmax(predictions, axis=1)\n",
    "predictions = [class_names[pred] for pred in predictions]\n",
    "conf_matrix=confusion_matrix(y_test_sentiment,predictions)\n",
    "precision_sc = precision_score(y_test_sentiment,predictions,class_names,average='weighted')\n",
    "recall_sc = recall_score(y_test_sentiment,predictions,class_names,average='weighted')\n",
    "f1_sc = f1_score(y_test_sentiment,predictions,class_names,average='weighted')\n",
    "conf_matrix\n",
    "# y_test_sentiment"
   ]
  },
  {
   "cell_type": "code",
   "execution_count": 22,
   "metadata": {},
   "outputs": [
    {
     "name": "stdout",
     "output_type": "stream",
     "text": [
      "Train Accuracy:  81.90805912017822\n",
      "Test Accuracy:  117.41342544555664\n"
     ]
    }
   ],
   "source": [
    "train_accuracy=scores[1] * 100\n",
    "test_accuracy=scores[0] * 100\n",
    "print(\"Train Accuracy: \",train_accuracy)\n",
    "print(\"Test Accuracy: \",test_accuracy)"
   ]
  },
  {
   "cell_type": "code",
   "execution_count": 23,
   "metadata": {},
   "outputs": [
    {
     "name": "stdout",
     "output_type": "stream",
     "text": [
      "Precision:  0.8277731296054961\n",
      "Recall:  0.819080573405833\n",
      "F1 score:  0.8208530654287723\n"
     ]
    }
   ],
   "source": [
    "print(\"Precision: \",precision_sc)\n",
    "print(\"Recall: \",recall_sc)\n",
    "print(\"F1 score: \",f1_sc)\n"
   ]
  },
  {
   "cell_type": "code",
   "execution_count": 24,
   "metadata": {},
   "outputs": [
    {
     "data": {
      "image/png": "[encoded data removed]",
      "text/plain": [
       "<Figure size 900x540 with 2 Axes>"
      ]
     },
     "metadata": {
      "needs_background": "light"
     },
     "output_type": "display_data"
    }
   ],
   "source": [
    "    title='Normalized confusion matrix'\n",
    "    normalize=True\n",
    "    cmap=plt.cm.Blues\n",
    "    if not title:\n",
    "        if normalize:\n",
    "            title = 'Normalized confusion matrix'\n",
    "        else:\n",
    "            title = 'Confusion matrix, without normalization'\n",
    "\n",
    "    # Compute confusion matrix\n",
    "    cm =conf_matrix\n",
    "\n",
    "    if normalize:\n",
    "        cm = cm.astype('float') / cm.sum(axis=1)[:, np.newaxis]\n",
    "\n",
    "    fig, ax = plt.subplots()\n",
    "    \n",
    "    # Set size\n",
    "    fig.set_size_inches(12.5, 7.5)\n",
    "    im = ax.imshow(cm, interpolation='nearest', cmap=cmap)\n",
    "    ax.figure.colorbar(im, ax=ax)\n",
    "    ax.grid(False)\n",
    "    \n",
    "    # We want to show all ticks...\n",
    "    ax.set(xticks=np.arange(cm.shape[1]),\n",
    "           yticks=np.arange(cm.shape[0]),\n",
    "           # ... and label them with the respective list entries\n",
    "           xticklabels=class_names, yticklabels=class_names,\n",
    "           title=title,\n",
    "           ylabel='True label',\n",
    "           xlabel='Predicted label')\n",
    "\n",
    "    # Rotate the tick labels and set their alignment.\n",
    "    plt.setp(ax.get_xticklabels(), rotation=45, ha=\"right\",\n",
    "             rotation_mode=\"anchor\")\n",
    "\n",
    "    # Loop over data dimensions and create text annotations.\n",
    "    fmt = '.2f' if normalize else 'd'\n",
    "    thresh = cm.max() / 2.\n",
    "    for i in range(cm.shape[0]):\n",
    "        for j in range(cm.shape[1]):\n",
    "            ax.text(j, i, format(cm[i, j], fmt),\n",
    "                    ha=\"center\", va=\"center\",\n",
    "                    color=\"white\" if cm[i, j] > thresh else \"black\")\n",
    "    fig.tight_layout()\n"
   ]
  },
  {
   "cell_type": "code",
   "execution_count": null,
   "metadata": {},
   "outputs": [],
   "source": [
    "\n",
    "\n",
    "\n",
    "\n",
    "\n",
    "\n",
    "\n",
    "\n",
    "\n",
    "\n",
    "\n",
    "\n",
    "\n",
    "\n",
    "\n",
    "\n",
    "\n",
    "\n",
    "\n",
    "\n",
    "\n",
    "\n",
    "\n",
    "\n",
    "\n",
    "\n",
    "\n"
   ]
  }
 ],
 "metadata": {
  "kernelspec": {
   "display_name": "Python 3",
   "language": "python",
   "name": "python3"
  },
  "language_info": {
   "codemirror_mode": {
    "name": "ipython",
    "version": 3
   },
   "file_extension": ".py",
   "mimetype": "text/x-python",
   "name": "python",
   "nbconvert_exporter": "python",
   "pygments_lexer": "ipython3",
   "version": "3.8.5"
  }
 },
 "nbformat": 4,
 "nbformat_minor": 4
}
